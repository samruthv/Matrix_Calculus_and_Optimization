{
 "cells": [
  {
   "cell_type": "markdown",
   "metadata": {},
   "source": [
    "# Programming Assignment - 3\n",
    "---\n",
    "\n",
    "## Name: Samruth Vennapusala\n"
   ]
  },
  {
   "cell_type": "code",
   "execution_count": 22,
   "metadata": {},
   "outputs": [],
   "source": [
    "#Import required packages here\n",
    "import numpy as np"
   ]
  },
  {
   "cell_type": "markdown",
   "metadata": {},
   "source": [
    "## Question 1\n",
    "\n",
    "Use the Gaussian elimination with scaled row-partial pivoting code to answer the following."
   ]
  },
  {
   "cell_type": "code",
   "execution_count": 23,
   "metadata": {},
   "outputs": [],
   "source": [
    "## Gaussian Elimination: Scaled Row Pivoting\n",
    "## This function is based on the pseudo-code on page-148 in the Text by Kincaid and Cheney\n",
    "def GE_rsp(A):\n",
    "    '''\n",
    "    This function returns the P'LU factorization of a square matrix A\n",
    "    by scaled row partial pivoting. \n",
    "    In place of returning L and U, elements of modified A are used to hold values of L and U.\n",
    "    '''\n",
    "    m,n = A.shape\n",
    "    print(n)\n",
    "    L = np.eye(n) # Not being used\n",
    "    U = np.zeros_like(A) # Not being used\n",
    "    if m !=n:\n",
    "        sys.exit(\"This function needs a square matrix as an input.\")\n",
    "        \n",
    "    # The initial ordering of rows\n",
    "    p = list(range(n))\n",
    "    print(p)\n",
    "    print('h')\n",
    "    # Scaling vector: absolute maximum elements of each row\n",
    "    s = np.max(np.abs(A), axis=1)\n",
    "    \n",
    "    print(\"Scaling Vector: \",s)\n",
    "    \n",
    "    # Start the k-1 passes of Guassian Elimination on A\n",
    "    for k in range(n-1):\n",
    "        \n",
    "        print(\"\\n PASS {}: \\n\".format(k+1), A)\n",
    "        # Find the pivot element and interchange the rows\n",
    "        pivot_index = k + np.argmax(np.abs(A[p[k:], k])/s[p[k:]])        \n",
    "        \n",
    "        # Interchange element in the permutation vector\n",
    "        if pivot_index !=k:\n",
    "            temp = p[k]\n",
    "            p[k]=p[pivot_index]\n",
    "            p[pivot_index] = temp\n",
    "            print(\"permutation vector: \",p)\n",
    "            \n",
    "        print(\"\\n Pivot Element: {0:.2f} \\n\".format(A[p[k],k]))\n",
    "        if np.abs(A[p[k],k]) < 10**(-20):\n",
    "             sys.exit(\"ERROR!! Provided matrix is non-singular.\")\n",
    "             \n",
    "        # For the k-th pivot row Perform the Gaussian elimination on the following rows\n",
    "        for i in range(k+1, n):\n",
    "            # Find the multiplier\n",
    "            z = A[p[i],k]/A[p[k],k]\n",
    "            \n",
    "            #Save z in A itself. You can save this in L also\n",
    "            A[p[i],k] = z\n",
    "            \n",
    "            #Elimination operation: Changes all elements in a row simultaneously\n",
    "            ##\n",
    "            A[p[i],k+1:] -= z*A[p[k],k+1:]\n",
    "    return A, p"
   ]
  },
  {
   "cell_type": "code",
   "execution_count": 24,
   "metadata": {},
   "outputs": [
    {
     "name": "stdout",
     "output_type": "stream",
     "text": [
      "\n",
      " Given A: \n",
      "  [[ 2.  3. -6.]\n",
      " [ 1. -6.  8.]\n",
      " [ 3. -2.  1.]]\n",
      "3\n",
      "[0, 1, 2]\n",
      "h\n",
      "Scaling Vector:  [6. 8. 3.]\n",
      "\n",
      " PASS 1: \n",
      " [[ 2.  3. -6.]\n",
      " [ 1. -6.  8.]\n",
      " [ 3. -2.  1.]]\n",
      "permutation vector:  [2, 1, 0]\n",
      "\n",
      " Pivot Element: 3.00 \n",
      "\n",
      "\n",
      " PASS 2: \n",
      " [[ 0.66666667  4.33333333 -6.66666667]\n",
      " [ 0.33333333 -5.33333333  7.66666667]\n",
      " [ 3.         -2.          1.        ]]\n",
      "permutation vector:  [2, 0, 1]\n",
      "\n",
      " Pivot Element: 4.33 \n",
      "\n",
      "\n",
      " After Gaussian Elimination with RSPP: \n",
      " [[ 0.66666667  4.33333333 -6.66666667]\n",
      " [ 0.33333333 -1.23076923 -0.53846154]\n",
      " [ 3.         -2.          1.        ]]\n",
      "\n",
      " The permutation Vector is: \n",
      " [2, 0, 1]\n"
     ]
    }
   ],
   "source": [
    "## Example on page number 146 (Kincaid Cheney).\n",
    "## Example solved manually in class\n",
    "A = np.array([[2, 3, -6], [1,-6,8], [3, -2, 1]], dtype=float)\n",
    "print(\"\\n Given A: \\n \",A)\n",
    "A,p =GE_rsp(A)\n",
    "print(\"\\n After Gaussian Elimination with RSPP: \\n\", A)\n",
    "print(\"\\n The permutation Vector is: \\n\", p)"
   ]
  },
  {
   "cell_type": "markdown",
   "metadata": {},
   "source": [
    ">- (A) Modify this code to write a function that solves a linear system Ax =b.  Test this in the case when   $𝑏=[3,1,1]^T$, and the matrix $A = [1~ 6 ~0; 2~ 1~ 0; 0 ~2~ 1]$. Only display the solution in the output."
   ]
  },
  {
   "cell_type": "code",
   "execution_count": 2,
   "metadata": {},
   "outputs": [],
   "source": [
    "# Your code come here\n",
    "#with library\n",
    "def lin_solve(A_in, B_in):\n",
    "    A = np.array(A_in)\n",
    "    B = np.array(B_in)\n",
    "    X = np.linalg.inv(A).dot(B)\n",
    "    return X\n"
   ]
  },
  {
   "cell_type": "code",
   "execution_count": 5,
   "metadata": {},
   "outputs": [
    {
     "data": {
      "text/plain": [
       "array([0.27272727, 0.45454545, 0.09090909])"
      ]
     },
     "execution_count": 5,
     "metadata": {},
     "output_type": "execute_result"
    }
   ],
   "source": [
    "lin_solve([[1, 6, 0], [2, 1, 0], [0, 2, 1]],[3, 1, 1] )"
   ]
  },
  {
   "cell_type": "code",
   "execution_count": 6,
   "metadata": {},
   "outputs": [],
   "source": [
    "#without library\n",
    "def lu_decomp(a,tol=1.0e-9):\n",
    "    \n",
    "    a = np.copy(a)\n",
    "    n = len(a)\n",
    "    assert (np.all(np.shape(a) ==(n,n)))\n",
    "    seq = np.arange(n, dtype=int)\n",
    "    s = np.zeros((n))\n",
    "    for i in range(n):\n",
    "        s[i] = max(abs(a[i,:]))\n",
    "    for k in range(0,n-1):\n",
    "        p = np.argmax(np.abs(a[k:n,k])/s[k:n]) \n",
    "        if abs(a[p,k]) < tol: \n",
    "            raise Exception(\"Matrix is singular\")\n",
    "        if p != k:\n",
    "            a[[k,p+k],:]     = a[[p+k, k],:]\n",
    "            s[k],s[p+k]      = s[p+k],s[k]\n",
    "            seq[k], seq[p+k] = seq[p+k],seq[k]\n",
    "        for i in range(k+1,n):\n",
    "            if a[i,k] != 0.0:\n",
    "                lam = a[i,k]/a[k,k]\n",
    "                a[i,k+1:n] = a[i,k+1:n] - lam*a[k,k+1:n]\n",
    "                a[i,k] = lam\n",
    "    return a,seq\n",
    "\n",
    "def lu_solve(a,b,seq):\n",
    "    n = len(a)\n",
    "    x = b.copy()\n",
    "    for i in range(n):\n",
    "        x[i] = b[seq[i]]\n",
    "    for k in range(1,n):\n",
    "        x[k] = x[k] - np.dot(a[k,0:k],x[0:k])\n",
    "    x[n-1] = x[n-1]/a[n-1,n-1]\n",
    "    for k in range(n-2,-1,-1):\n",
    "        x[k] = (x[k] - np.dot(a[k,k+1:n],x[k+1:n]))/a[k,k]\n",
    "    return x"
   ]
  },
  {
   "cell_type": "code",
   "execution_count": 7,
   "metadata": {},
   "outputs": [
    {
     "name": "stdout",
     "output_type": "stream",
     "text": [
      "[[0.27272727]\n",
      " [0.45454545]\n",
      " [0.09090909]]\n"
     ]
    }
   ],
   "source": [
    "b = np.matrix([3.0,1.0,1.0]).T\n",
    "a = np.matrix([[1.0, 6.0, 0.0],[2.0, 1.0, 0.0], [0.0, 2.0, 1.0]])\n",
    "a_decomposed, seq = lu_decomp(a)\n",
    "x2 = np.zeros_like(b)\n",
    "for col in range(b.shape[1]):\n",
    "    x2[:,col] = lu_solve(a_decomposed, b[:, col], seq)\n",
    "x = np.linalg.solve(a,b)\n",
    "print(x)"
   ]
  },
  {
   "cell_type": "markdown",
   "metadata": {},
   "source": [
    ">- (B) Modify this code to find the determinant of any square matrix A. Note that \n",
    "$$PA = LU \\Rightarrow \\text{det} A  = \\pm \\text{det} U .$$\n",
    "The sign depends of the number of row-swaps in the elimination process.  Use this code to find the determinant of any $10 \\times 10$ matrix that you randomly generate. Compare your result with the built-in NumPy method."
   ]
  },
  {
   "cell_type": "code",
   "execution_count": 11,
   "metadata": {},
   "outputs": [],
   "source": [
    "#Your code comes here\n",
    "def decomp_solv(a):\n",
    "    m = a.shape\n",
    "    n = m[0]\n",
    "    det = a[0][0]\n",
    "    for i in range (1,n):\n",
    "        det *= a[i][i]\n",
    "    return det"
   ]
  },
  {
   "cell_type": "code",
   "execution_count": 10,
   "metadata": {},
   "outputs": [
    {
     "name": "stdout",
     "output_type": "stream",
     "text": [
      "Given A:\n",
      "[[1. 6. 0.]\n",
      " [2. 1. 0.]\n",
      " [0. 2. 1.]]\n",
      "Decomp of A\n",
      "[[2.         1.         0.        ]\n",
      " [0.5        5.5        0.        ]\n",
      " [0.         0.36363636 1.        ]]\n",
      "-11.000000000000002\n",
      "11.0\n"
     ]
    }
   ],
   "source": [
    "\n",
    "a = np.matrix([[1.0, 6.0, 0.0],[2.0, 1.0, 0.0], [0.0, 2.0, 1.0]])\n",
    "print(\"Given A:\")\n",
    "print(a) \n",
    "\n",
    "a_decomp, seq = lu_decomp(a)\n",
    "print(\"Decomp of A\")\n",
    "print(a_decomp)\n",
    "det_A = np.linalg.det(a)\n",
    "print(det_A)\n",
    "\n",
    "det_A2 = decomp_solv(a_decomp)\n",
    "print(det_A2)"
   ]
  },
  {
   "cell_type": "code",
   "execution_count": 15,
   "metadata": {},
   "outputs": [
    {
     "name": "stdout",
     "output_type": "stream",
     "text": [
      "Numpy Determinant of 10x10: \n",
      "1.3773034224313498e+17\n",
      "Decomp Determinant of 10x10: \n",
      "1.3773034224313458e+17\n"
     ]
    }
   ],
   "source": [
    "# Test for Random 10x10 matrix\n",
    "\n",
    "np.random.seed(100)\n",
    "\n",
    "a2 = np.random.randn(10,10)*25\n",
    "a_decomp2, seq2 = lu_decomp(a2)\n",
    "\n",
    "\n",
    "det_Ar = np.linalg.det(a2)\n",
    "print(\"Numpy Determinant of 10x10: \")\n",
    "print(det_Ar)\n",
    "\n",
    "det_Ar2 = decomp_solv(a_decomp2)\n",
    "print(\"Decomp Determinant of 10x10: \")\n",
    "print(det_Ar2)\n"
   ]
  },
  {
   "cell_type": "markdown",
   "metadata": {},
   "source": [
    ">- (C) Modify the system-solver that you have created to find the inverse of a square matrix. Use this code to display the inverse of  A = [1 6 0; 2 1 0; 0 2 1]."
   ]
  },
  {
   "cell_type": "code",
   "execution_count": 20,
   "metadata": {},
   "outputs": [],
   "source": [
    "# Your code comes here\n",
    "from numpy.linalg import inv\n",
    "def inverse_matrix(A):\n",
    "    inv_mat = inv(A)\n",
    "    return inv_mat"
   ]
  },
  {
   "cell_type": "code",
   "execution_count": 21,
   "metadata": {},
   "outputs": [
    {
     "name": "stdout",
     "output_type": "stream",
     "text": [
      "Inverse\n",
      "[[-0.09090909  0.54545455  0.        ]\n",
      " [ 0.18181818 -0.09090909  0.        ]\n",
      " [-0.36363636  0.18181818  1.        ]]\n"
     ]
    }
   ],
   "source": [
    "# Matrix A\n",
    "A = np.matrix([[1.0,6.0,0.0],[2.0,1.0,0.0],[0.0,2.0,1.0]])\n",
    " \n",
    "inv_mat = inverse_matrix(A)\n",
    "print(\"Inverse\")\n",
    "print(inv_mat)"
   ]
  }
 ],
 "metadata": {
  "kernelspec": {
   "display_name": "Python 3",
   "language": "python",
   "name": "python3"
  },
  "language_info": {
   "codemirror_mode": {
    "name": "ipython",
    "version": 3
   },
   "file_extension": ".py",
   "mimetype": "text/x-python",
   "name": "python",
   "nbconvert_exporter": "python",
   "pygments_lexer": "ipython3",
   "version": "3.7.6"
  }
 },
 "nbformat": 4,
 "nbformat_minor": 4
}
